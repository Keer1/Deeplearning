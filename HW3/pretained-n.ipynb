{
 "cells": [
  {
   "cell_type": "code",
   "execution_count": 1,
   "id": "9e0541b2-65a3-42ae-8656-708cf7d7f543",
   "metadata": {
    "tags": []
   },
   "outputs": [
    {
     "name": "stderr",
     "output_type": "stream",
     "text": [
      "/software/slurm/spackages/linux-rocky8-x86_64/gcc-12.2.0/anaconda3-2023.09-0-3mhml42fa64byxqyd5fig5tbih625dp2/lib/python3.11/site-packages/transformers/utils/generic.py:260: FutureWarning: `torch.utils._pytree._register_pytree_node` is deprecated. Please use `torch.utils._pytree.register_pytree_node` instead.\n",
      "  torch.utils._pytree._register_pytree_node(\n"
     ]
    },
    {
     "name": "stdout",
     "output_type": "stream",
     "text": [
      "cuda\n"
     ]
    }
   ],
   "source": [
    "import os, json, math, random, csv\n",
    "from typing import Dict\n",
    "import numpy as np\n",
    "import torch\n",
    "from torch.utils.data import DataLoader\n",
    "from datasets import Dataset, DatasetDict\n",
    "from transformers import (\n",
    "    AutoTokenizer, AutoModelForQuestionAnswering,\n",
    "    get_linear_schedule_with_warmup, AdamW, default_data_collator\n",
    ")\n",
    "import evaluate\n",
    "from tqdm import tqdm\n",
    "import matplotlib.pyplot as plt\n",
    "def qa_eval_collate(features):\n",
    "    \n",
    "    keep_keys = (\"example_id\", \"offset_mapping\")\n",
    "    model_features = [{k: v for k, v in f.items() if k not in keep_keys} for f in features]\n",
    "    batch = default_data_collator(model_features)\n",
    "    batch[\"example_id\"] = [f[\"example_id\"] for f in features]\n",
    "    batch[\"offset_mapping\"] = [f[\"offset_mapping\"] for f in features]\n",
    "    return batch\n",
    "\n",
    "\n",
    "\n",
    "os.environ[\"TOKENIZERS_PARALLELISM\"] = \"false\"\n",
    "os.environ[\"PYTORCH_CUDA_ALLOC_CONF\"] = \"expandable_segments:True\"\n",
    "SEED = 42\n",
    "random.seed(SEED); np.random.seed(SEED); torch.manual_seed(SEED)\n",
    "if torch.cuda.is_available():\n",
    "    torch.cuda.manual_seed_all(SEED)\n",
    "device = torch.device(\"cuda\" if torch.cuda.is_available() else \"cpu\")\n",
    "\n",
    "print(device)\n"
   ]
  },
  {
   "cell_type": "code",
   "execution_count": 2,
   "id": "af31103e-e347-4a54-adab-c5f7697c558d",
   "metadata": {
    "tags": []
   },
   "outputs": [
    {
     "data": {
      "text/plain": [
       "DatasetDict({\n",
       "    train: Dataset({\n",
       "        features: ['id', 'context', 'question', 'answer_start', 'answer_text'],\n",
       "        num_rows: 37111\n",
       "    })\n",
       "    clean: Dataset({\n",
       "        features: ['id', 'context', 'question', 'answer_start', 'answer_text'],\n",
       "        num_rows: 5351\n",
       "    })\n",
       "    wer44: Dataset({\n",
       "        features: ['id', 'context', 'question', 'answer_start', 'answer_text'],\n",
       "        num_rows: 5351\n",
       "    })\n",
       "    wer54: Dataset({\n",
       "        features: ['id', 'context', 'question', 'answer_start', 'answer_text'],\n",
       "        num_rows: 5351\n",
       "    })\n",
       "})"
      ]
     },
     "execution_count": 2,
     "metadata": {},
     "output_type": "execute_result"
    }
   ],
   "source": [
    "train_path = \"spoken_train-v1.1.json\"\n",
    "test_clean = \"spoken_test-v1.1.json\"\n",
    "test_wer44 = \"spoken_test-v1.1_WER44.json\"\n",
    "test_wer54 = \"spoken_test-v1.1_WER54.json\"\n",
    "\n",
    "for p in [train_path, test_clean, test_wer44, test_wer54]:\n",
    "    assert os.path.exists(p), f\"Missing: {p}\"\n",
    "\n",
    "def load_spoken_squad_as_dataset(path: str) -> Dataset:\n",
    "    \"\"\"Parse SQuAD-style JSON → flat Dataset(id, context, question, answer_start, answer_text)\"\"\"\n",
    "    with open(path, \"r\", encoding=\"utf-8\") as f:\n",
    "        js = json.load(f)\n",
    "    ids, contexts, questions, answer_starts, answer_texts = [], [], [], [], []\n",
    "    for art in js[\"data\"]:\n",
    "        for para in art[\"paragraphs\"]:\n",
    "            ctx = para[\"context\"]\n",
    "            for qa in para[\"qas\"]:\n",
    "                ans = qa[\"answers\"][0]  # Spoken-SQuAD≈SQuAD v1 (single answer)\n",
    "                ids.append(qa[\"id\"])\n",
    "                contexts.append(ctx)\n",
    "                questions.append(qa[\"question\"])\n",
    "                answer_starts.append(ans[\"answer_start\"])\n",
    "                answer_texts.append(ans[\"text\"])\n",
    "    return Dataset.from_dict({\n",
    "        \"id\": ids,\n",
    "        \"context\": contexts,\n",
    "        \"question\": questions,\n",
    "        \"answer_start\": answer_starts,\n",
    "        \"answer_text\": answer_texts\n",
    "    })\n",
    "\n",
    "raw = DatasetDict({\n",
    "    \"train\": load_spoken_squad_as_dataset(train_path),\n",
    "    \"clean\": load_spoken_squad_as_dataset(test_clean),\n",
    "    \"wer44\": load_spoken_squad_as_dataset(test_wer44),\n",
    "    \"wer54\": load_spoken_squad_as_dataset(test_wer54),\n",
    "})\n",
    "raw\n"
   ]
  },
  {
   "cell_type": "code",
   "execution_count": 3,
   "id": "6faa8eac-ebbf-439d-8634-ac00ba6b7e68",
   "metadata": {
    "tags": []
   },
   "outputs": [
    {
     "name": "stderr",
     "output_type": "stream",
     "text": [
      "/home/kpatam/.local/lib/python3.11/site-packages/huggingface_hub/file_download.py:945: FutureWarning: `resume_download` is deprecated and will be removed in version 1.0.0. Downloads always resume when possible. If you want to force a new download, use `force_download=True`.\n",
      "  warnings.warn(\n",
      "/software/slurm/spackages/linux-rocky8-x86_64/gcc-12.2.0/anaconda3-2023.09-0-3mhml42fa64byxqyd5fig5tbih625dp2/lib/python3.11/site-packages/transformers/utils/generic.py:260: FutureWarning: `torch.utils._pytree._register_pytree_node` is deprecated. Please use `torch.utils._pytree.register_pytree_node` instead.\n",
      "  torch.utils._pytree._register_pytree_node(\n",
      "Some weights of the model checkpoint at bert-large-uncased-whole-word-masking-finetuned-squad were not used when initializing BertForQuestionAnswering: ['bert.pooler.dense.weight', 'bert.pooler.dense.bias']\n",
      "- This IS expected if you are initializing BertForQuestionAnswering from the checkpoint of a model trained on another task or with another architecture (e.g. initializing a BertForSequenceClassification model from a BertForPreTraining model).\n",
      "- This IS NOT expected if you are initializing BertForQuestionAnswering from the checkpoint of a model that you expect to be exactly identical (initializing a BertForSequenceClassification model from a BertForSequenceClassification model).\n"
     ]
    }
   ],
   "source": [
    "model_name = \"bert-large-uncased-whole-word-masking-finetuned-squad\"  # HW3-compliant (HF only)\n",
    "tokenizer = AutoTokenizer.from_pretrained(model_name, use_fast=True)\n",
    "model = AutoModelForQuestionAnswering.from_pretrained(model_name).to(device)\n",
    "\n",
    "MAX_LEN = 512\n",
    "DOC_STRIDE = 128\n",
    "PAD_ON_RIGHT = tokenizer.padding_side == \"right\"  # typically True\n"
   ]
  },
  {
   "cell_type": "code",
   "execution_count": 4,
   "id": "16a74d6a-1659-4945-b19c-03b520f4e8a2",
   "metadata": {
    "tags": []
   },
   "outputs": [
    {
     "data": {
      "application/vnd.jupyter.widget-view+json": {
       "model_id": "",
       "version_major": 2,
       "version_minor": 0
      },
      "text/plain": [
       "Map:   0%|          | 0/37111 [00:00<?, ? examples/s]"
      ]
     },
     "metadata": {},
     "output_type": "display_data"
    },
    {
     "data": {
      "application/vnd.jupyter.widget-view+json": {
       "model_id": "",
       "version_major": 2,
       "version_minor": 0
      },
      "text/plain": [
       "Map:   0%|          | 0/5351 [00:00<?, ? examples/s]"
      ]
     },
     "metadata": {},
     "output_type": "display_data"
    },
    {
     "data": {
      "application/vnd.jupyter.widget-view+json": {
       "model_id": "",
       "version_major": 2,
       "version_minor": 0
      },
      "text/plain": [
       "Map:   0%|          | 0/5351 [00:00<?, ? examples/s]"
      ]
     },
     "metadata": {},
     "output_type": "display_data"
    },
    {
     "data": {
      "application/vnd.jupyter.widget-view+json": {
       "model_id": "",
       "version_major": 2,
       "version_minor": 0
      },
      "text/plain": [
       "Map:   0%|          | 0/5351 [00:00<?, ? examples/s]"
      ]
     },
     "metadata": {},
     "output_type": "display_data"
    },
    {
     "data": {
      "text/plain": [
       "{'train': 37130, 'clean': 5376, 'wer44': 5376, 'wer54': 5376}"
      ]
     },
     "execution_count": 4,
     "metadata": {},
     "output_type": "execute_result"
    }
   ],
   "source": [
    "def prepare_train_features(examples):\n",
    "    questions = [q.strip() for q in examples[\"question\"]]\n",
    "    enc = tokenizer(\n",
    "        questions if PAD_ON_RIGHT else examples[\"context\"],\n",
    "        examples[\"context\"] if PAD_ON_RIGHT else questions,\n",
    "        truncation=\"only_second\" if PAD_ON_RIGHT else \"only_first\",\n",
    "        max_length=MAX_LEN,\n",
    "        stride=DOC_STRIDE,\n",
    "        return_overflowing_tokens=True,\n",
    "        return_offsets_mapping=True,\n",
    "        padding=\"max_length\",\n",
    "    )\n",
    "    sample_map = enc.pop(\"overflow_to_sample_mapping\")\n",
    "    offsets = enc.pop(\"offset_mapping\")\n",
    "\n",
    "    start_positions, end_positions = [], []\n",
    "    for i, off in enumerate(offsets):\n",
    "        sample_idx = sample_map[i]\n",
    "        start_char = examples[\"answer_start\"][sample_idx]\n",
    "        end_char = start_char + len(examples[\"answer_text\"][sample_idx])\n",
    "        seq_ids = enc.sequence_ids(i)\n",
    "\n",
    "        ctx_idx = 1 if PAD_ON_RIGHT else 0\n",
    "        first_ctx = next(k for k, s in enumerate(seq_ids) if s == ctx_idx)\n",
    "        last_ctx  = len(seq_ids) - 1 - next(k for k, s in enumerate(seq_ids[::-1]) if s == ctx_idx)\n",
    "\n",
    "        cls_index = enc[\"input_ids\"][i].index(tokenizer.cls_token_id)\n",
    "        if not (off[first_ctx][0] <= start_char and off[last_ctx][1] >= end_char):\n",
    "            start_positions.append(cls_index); end_positions.append(cls_index); continue\n",
    "\n",
    "        # token start\n",
    "        ts = first_ctx\n",
    "        while ts <= last_ctx and off[ts][0] <= start_char:\n",
    "            ts += 1\n",
    "        ts -= 1\n",
    "        # token end\n",
    "        te = last_ctx\n",
    "        while te >= first_ctx and off[te][1] >= end_char:\n",
    "            te -= 1\n",
    "        te += 1\n",
    "\n",
    "        start_positions.append(ts)\n",
    "        end_positions.append(te)\n",
    "\n",
    "    enc[\"start_positions\"] = start_positions\n",
    "    enc[\"end_positions\"] = end_positions\n",
    "    return enc\n",
    "\n",
    "def prepare_eval_features(examples):\n",
    "    questions = [q.strip() for q in examples[\"question\"]]\n",
    "    enc = tokenizer(\n",
    "        questions if PAD_ON_RIGHT else examples[\"context\"],\n",
    "        examples[\"context\"] if PAD_ON_RIGHT else questions,\n",
    "        truncation=\"only_second\" if PAD_ON_RIGHT else \"only_first\",\n",
    "        max_length=MAX_LEN,\n",
    "        stride=DOC_STRIDE,\n",
    "        return_overflowing_tokens=True,\n",
    "        return_offsets_mapping=True,\n",
    "        padding=\"max_length\",\n",
    "    )\n",
    "    sample_map = enc.pop(\"overflow_to_sample_mapping\")\n",
    "    eids = []\n",
    "    for i in range(len(enc[\"input_ids\"])):\n",
    "        seq_ids = enc.sequence_ids(i)\n",
    "        off = enc[\"offset_mapping\"][i]\n",
    "        enc[\"offset_mapping\"][i] = [\n",
    "            o if seq_ids[k] == (1 if PAD_ON_RIGHT else 0) else None\n",
    "            for k, o in enumerate(off)\n",
    "        ]\n",
    "        eids.append(examples[\"id\"][sample_map[i]])\n",
    "    enc[\"example_id\"] = eids\n",
    "    return enc\n",
    "\n",
    "tokenized = {\n",
    "    \"train\": raw[\"train\"].map(prepare_train_features, batched=True, remove_columns=raw[\"train\"].column_names),\n",
    "    \"clean\": raw[\"clean\"].map(prepare_eval_features, batched=True, remove_columns=raw[\"clean\"].column_names),\n",
    "    \"wer44\": raw[\"wer44\"].map(prepare_eval_features, batched=True, remove_columns=raw[\"wer44\"].column_names),\n",
    "    \"wer54\": raw[\"wer54\"].map(prepare_eval_features, batched=True, remove_columns=raw[\"wer54\"].column_names),\n",
    "}\n",
    "{k: len(v) for k, v in tokenized.items()}\n"
   ]
  },
  {
   "cell_type": "code",
   "execution_count": 5,
   "id": "f2d9c203-cd6c-477e-b71c-a50e19d5394c",
   "metadata": {
    "tags": []
   },
   "outputs": [
    {
     "name": "stderr",
     "output_type": "stream",
     "text": [
      "/software/slurm/spackages/linux-rocky8-x86_64/gcc-12.2.0/anaconda3-2023.09-0-3mhml42fa64byxqyd5fig5tbih625dp2/lib/python3.11/site-packages/transformers/optimization.py:411: FutureWarning: This implementation of AdamW is deprecated and will be removed in a future version. Use the PyTorch implementation torch.optim.AdamW instead, or set `no_deprecation_warning=True` to disable this warning\n",
      "  warnings.warn(\n",
      "/local_scratch/slurm.6560844/ipykernel_1471217/2391543148.py:14: FutureWarning: `torch.cuda.amp.GradScaler(args...)` is deprecated. Please use `torch.amp.GradScaler('cuda', args...)` instead.\n",
      "  scaler = torch.cuda.amp.GradScaler(enabled=torch.cuda.is_available())\n",
      "Epoch 1/3:   0%|          | 0/4642 [00:00<?, ?it/s]/local_scratch/slurm.6560844/ipykernel_1471217/2391543148.py:27: FutureWarning: `torch.cuda.amp.autocast(args...)` is deprecated. Please use `torch.amp.autocast('cuda', args...)` instead.\n",
      "  with torch.cuda.amp.autocast(enabled=torch.cuda.is_available()):\n",
      "Epoch 1/3: 100%|██████████| 4642/4642 [21:56<00:00,  3.53it/s, e_acc=1.000, j_acc=0.000, loss=0.9488, lr=2.00e-05, s_acc=0.000]\n",
      "Epoch 2/3: 100%|██████████| 4642/4642 [21:55<00:00,  3.53it/s, e_acc=0.500, j_acc=0.500, loss=0.7694, lr=1.00e-05, s_acc=1.000]\n",
      "Epoch 3/3: 100%|██████████| 4642/4642 [21:55<00:00,  3.53it/s, e_acc=1.000, j_acc=1.000, loss=0.0598, lr=0.00e+00, s_acc=1.000]\n"
     ]
    },
    {
     "data": {
      "text/plain": [
       "('bert_spoken_squad_finetuned/tokenizer_config.json',\n",
       " 'bert_spoken_squad_finetuned/special_tokens_map.json',\n",
       " 'bert_spoken_squad_finetuned/vocab.txt',\n",
       " 'bert_spoken_squad_finetuned/added_tokens.json',\n",
       " 'bert_spoken_squad_finetuned/tokenizer.json')"
      ]
     },
     "execution_count": 5,
     "metadata": {},
     "output_type": "execute_result"
    }
   ],
   "source": [
    "EPOCHS = 3\n",
    "TRAIN_BS = 8\n",
    "LR = 3e-5\n",
    "WEIGHT_DECAY = 0.01\n",
    "GRAD_ACCUM = 1\n",
    "\n",
    "train_loader = DataLoader(tokenized[\"train\"], batch_size=TRAIN_BS, shuffle=True, collate_fn=default_data_collator)\n",
    "\n",
    "optimizer = AdamW(model.parameters(), lr=LR, weight_decay=WEIGHT_DECAY)\n",
    "num_update_steps_per_epoch = math.ceil(len(train_loader) / GRAD_ACCUM)\n",
    "num_training_steps = EPOCHS * num_update_steps_per_epoch\n",
    "scheduler = get_linear_schedule_with_warmup(optimizer, num_warmup_steps=0, num_training_steps=num_training_steps)\n",
    "\n",
    "scaler = torch.cuda.amp.GradScaler(enabled=torch.cuda.is_available())\n",
    "model.train()\n",
    "\n",
    "loss_history = []\n",
    "start_acc_history, end_acc_history, joint_acc_history = [], [], []\n",
    "epoch_index = []\n",
    "global_step = 0\n",
    "\n",
    "for epoch in range(EPOCHS):\n",
    "    pbar = tqdm(train_loader, desc=f\"Epoch {epoch+1}/{EPOCHS}\")\n",
    "    optimizer.zero_grad(set_to_none=True)\n",
    "    for step, batch in enumerate(pbar):\n",
    "        batch = {k: v.to(device) for k, v in batch.items()}\n",
    "        with torch.cuda.amp.autocast(enabled=torch.cuda.is_available()):\n",
    "            out = model(**batch)\n",
    "            loss = out.loss / GRAD_ACCUM\n",
    "\n",
    "        # quick token-accuracy metrics (train-side)\n",
    "        with torch.no_grad():\n",
    "            sp = out.start_logits.argmax(dim=-1)\n",
    "            ep = out.end_logits.argmax(dim=-1)\n",
    "            st = batch[\"start_positions\"]\n",
    "            et = batch[\"end_positions\"]\n",
    "            s_acc = (sp == st).float().mean().item()\n",
    "            e_acc = (ep == et).float().mean().item()\n",
    "            j_acc = ((sp == st) & (ep == et)).float().mean().item()\n",
    "\n",
    "        scaler.scale(loss).backward()\n",
    "        if (step + 1) % GRAD_ACCUM == 0:\n",
    "            scaler.step(optimizer)\n",
    "            scaler.update()\n",
    "            optimizer.zero_grad(set_to_none=True)\n",
    "            scheduler.step()\n",
    "            global_step += 1\n",
    "\n",
    "        loss_history.append(float(loss.item() * GRAD_ACCUM))\n",
    "        start_acc_history.append(s_acc); end_acc_history.append(e_acc); joint_acc_history.append(j_acc)\n",
    "\n",
    "        pbar.set_postfix(\n",
    "            loss=f\"{loss_history[-1]:.4f}\",\n",
    "            s_acc=f\"{s_acc:.3f}\", e_acc=f\"{e_acc:.3f}\", j_acc=f\"{j_acc:.3f}\",\n",
    "            lr=f\"{scheduler.get_last_lr()[0]:.2e}\"\n",
    "        )\n",
    "    epoch_index.append(len(loss_history))\n",
    "\n",
    "# Save fine-tuned model\n",
    "os.makedirs(\"bert_spoken_squad_finetuned\", exist_ok=True)\n",
    "model.save_pretrained(\"bert_spoken_squad_finetuned\")\n",
    "tokenizer.save_pretrained(\"bert_spoken_squad_finetuned\")\n"
   ]
  },
  {
   "cell_type": "code",
   "execution_count": 6,
   "id": "1a2ca133-a6e6-4bcb-977f-0802b27d2899",
   "metadata": {
    "tags": []
   },
   "outputs": [
    {
     "data": {
      "image/png": "[encoded data removed]",
      "text/plain": [
       "<Figure size 1200x450 with 2 Axes>"
      ]
     },
     "metadata": {},
     "output_type": "display_data"
    },
    {
     "name": "stdout",
     "output_type": "stream",
     "text": [
      "Saved: outputs/plots/training_epoch_curves.png\n"
     ]
    }
   ],
   "source": [
    "import os\n",
    "import numpy as np\n",
    "import matplotlib.pyplot as plt\n",
    "\n",
    "os.makedirs(\"outputs/plots\", exist_ok=True)\n",
    "\n",
    "def _epoch_means(step_values, epoch_breaks):\n",
    "    \"\"\"Average per-step values into per-epoch means given epoch_end indices.\"\"\"\n",
    "    means = []\n",
    "    start = 0\n",
    "    for end in epoch_breaks:  # each 'end' is the step count *after* finishing that epoch\n",
    "        chunk = step_values[start:end]\n",
    "        means.append(float(np.mean(chunk)) if len(chunk) else np.nan)\n",
    "        start = end\n",
    "    return means\n",
    "\n",
    "# Compute epoch-wise means\n",
    "loss_per_epoch  = _epoch_means(loss_history,  epoch_index)\n",
    "joint_per_epoch = _epoch_means(joint_acc_history, epoch_index)\n",
    "\n",
    "# X-axis as epoch numbers: 0,1,2,...\n",
    "epochs_x = list(range(len(loss_per_epoch)))\n",
    "\n",
    "\n",
    "fig, axes = plt.subplots(1, 2, figsize=(12, 4.5))\n",
    "\n",
    "# Left: Training Loss\n",
    "axes[0].plot(epochs_x, loss_per_epoch, marker=\"o\", linewidth=2)\n",
    "axes[0].set_title(\"Training Loss\")\n",
    "axes[0].set_xlabel(\"Epoch\")\n",
    "axes[0].set_ylabel(\"Loss\")\n",
    "axes[0].grid(False)\n",
    "\n",
    "# Right: Training Accuracy (joint start&end)\n",
    "axes[1].plot(epochs_x, joint_per_epoch, marker=\"o\", linewidth=2)\n",
    "axes[1].set_title(\"Training Accuracy\")\n",
    "axes[1].set_xlabel(\"Epoch\")\n",
    "axes[1].set_ylabel(\"Accuracy\")\n",
    "axes[1].grid(False)\n",
    "\n",
    "plt.tight_layout()\n",
    "out_path = \"outputs/plots/training_epoch_curves.png\"\n",
    "plt.savefig(out_path, dpi=150)\n",
    "plt.show()\n",
    "\n",
    "print(f\"Saved: {out_path}\")\n"
   ]
  },
  {
   "cell_type": "code",
   "execution_count": 7,
   "id": "0f387f36-86ef-4370-8065-52df3ca963de",
   "metadata": {
    "tags": []
   },
   "outputs": [],
   "source": [
    "import re\n",
    "import string\n",
    "from collections import Counter\n",
    "def _normalize(text: str) -> str:\n",
    "    if text is None:\n",
    "        return \"\"\n",
    "    text = text.lower()\n",
    "    text = \"\".join(ch for ch in text if ch not in set(string.punctuation))\n",
    "    text = re.sub(r\"\\b(a|an|the)\\b\", \" \", text)\n",
    "    text = \" \".join(text.split())\n",
    "    return text\n",
    "\n",
    "def _f1_score(pred: str, truth: str) -> float:\n",
    "    pred_tokens  = _normalize(pred).split()\n",
    "    truth_tokens = _normalize(truth).split()\n",
    "    if len(pred_tokens) == 0 and len(truth_tokens) == 0:\n",
    "        return 1.0\n",
    "    common = Counter(pred_tokens) & Counter(truth_tokens)\n",
    "    num_same = sum(common.values())\n",
    "    if num_same == 0:\n",
    "        return 0.0\n",
    "    precision = num_same / len(pred_tokens)\n",
    "    recall    = num_same / len(truth_tokens)\n",
    "    return 2 * precision * recall / (precision + recall)\n",
    "\n",
    "def _exact_match(pred: str, truth: str) -> float:\n",
    "    return float(_normalize(pred) == _normalize(truth))\n",
    "\n",
    "def compute_squad_metrics(predictions_list, references_list):\n",
    "    \"\"\"\n",
    "    predictions_list: [{\"id\": \"...\", \"prediction_text\": \"...\"}]\n",
    "    references_list : [{\"id\": \"...\", \"answers\": {\"text\":[text], \"answer_start\":[start]}}]\n",
    "    Returns: {\"exact_match\": xx.x, \"f1\": yy.y}\n",
    "    \"\"\"\n",
    "    ref_by_id = {ex[\"id\"]: ex[\"answers\"][\"text\"][0] for ex in references_list}\n",
    "    em_total = 0.0\n",
    "    f1_total = 0.0\n",
    "    n = 0\n",
    "    for p in predictions_list:\n",
    "        pid = p[\"id\"]\n",
    "        pred_text = p[\"prediction_text\"]\n",
    "        truth_text = ref_by_id.get(pid, \"\")\n",
    "        em_total += _exact_match(pred_text, truth_text)\n",
    "        f1_total += _f1_score(pred_text, truth_text)\n",
    "        n += 1\n",
    "    if n == 0:\n",
    "        return {\"exact_match\": 0.0, \"f1\": 0.0}\n",
    "    return {\"exact_match\": 100.0 * em_total / n, \"f1\": 100.0 * f1_total / n}\n"
   ]
  },
  {
   "cell_type": "code",
   "execution_count": 8,
   "id": "9350a7c6-9387-4226-8135-8775ce85985a",
   "metadata": {
    "tags": []
   },
   "outputs": [],
   "source": [
    "def id2ctx_map(split_key: str) -> Dict[str, str]:\n",
    "    return {i: c for i, c in zip(raw[split_key][\"id\"], raw[split_key][\"context\"])}\n",
    "\n",
    "def predict_one_split(split_key: str, out_dir: str) -> Dict[str, float]:\n",
    "    \"\"\"Predict & score one split; saves predictions_*.json and metrics_*.txt\"\"\"\n",
    "    os.makedirs(out_dir, exist_ok=True)\n",
    "    eval_ds   = tokenized[split_key]\n",
    "    raw_split = raw[split_key]\n",
    "    id2ctx    = id2ctx_map(split_key)\n",
    "\n",
    "    # use the custom collator here\n",
    "    loader = DataLoader(eval_ds, batch_size=16, shuffle=False, collate_fn=qa_eval_collate)\n",
    "    model.eval()\n",
    "\n",
    "    all_start, all_end, all_eids, all_offsets = [], [], [], []\n",
    "    with torch.no_grad():\n",
    "        for batch in loader:  # plain loop (no tqdm, cleaner logs)\n",
    "            eids = batch.pop(\"example_id\")\n",
    "            offsets = batch.pop(\"offset_mapping\")\n",
    "            batch = {k: v.to(device) for k, v in batch.items()}\n",
    "            out = model(**batch)\n",
    "            all_start.append(out.start_logits.detach().cpu().numpy())\n",
    "            all_end.append(out.end_logits.detach().cpu().numpy())\n",
    "            all_eids.extend(eids)\n",
    "            all_offsets.extend(offsets)\n",
    "\n",
    "    all_start = np.concatenate(all_start, axis=0)\n",
    "    all_end   = np.concatenate(all_end,   axis=0)\n",
    "\n",
    "    # n-best span search\n",
    "    n_best, max_len = 20, 30\n",
    "    preds_by_id = {}\n",
    "    for s_log, e_log, eid, offs in zip(all_start, all_end, all_eids, all_offsets):\n",
    "        s_idx = np.argsort(s_log)[-n_best:][::-1]\n",
    "        e_idx = np.argsort(e_log)[-n_best:][::-1]\n",
    "        best_text, best_score = \"\", -1e18\n",
    "        for si in s_idx:\n",
    "            for ei in e_idx:\n",
    "                if si >= len(offs) or ei >= len(offs):         continue\n",
    "                if offs[si] is None or offs[ei] is None:       continue\n",
    "                if ei < si or (ei - si + 1) > max_len:         continue\n",
    "                score = s_log[si] + e_log[ei]\n",
    "                if score > best_score:\n",
    "                    s_char, e_char = offs[si][0], offs[ei][1]\n",
    "                    ctx = id2ctx[eid]\n",
    "                    best_text, best_score = ctx[s_char:e_char], score\n",
    "        preds_by_id[eid] = best_text\n",
    "\n",
    "    refs = [{\"id\": i, \"answers\": {\"text\": [t], \"answer_start\": [s]}}\n",
    "            for i, t, s in zip(raw_split[\"id\"], raw_split[\"answer_text\"], raw_split[\"answer_start\"])]\n",
    "    preds_list = [{\"id\": i, \"prediction_text\": preds_by_id.get(i, \"\")} for i in raw_split[\"id\"]]\n",
    "\n",
    "    with open(os.path.join(out_dir, f\"predictions_{split_key}.json\"), \"w\") as f:\n",
    "        json.dump({p[\"id\"]: p[\"prediction_text\"] for p in preds_list}, f, indent=2)\n",
    "\n",
    "    m = compute_squad_metrics(preds_list, refs)  # uses your local EM/F1\n",
    "    with open(os.path.join(out_dir, f\"metrics_{split_key}.txt\"), \"w\") as f:\n",
    "        f.write(f\"{split_key}: EM={m['exact_match']:.2f}, F1={m['f1']:.2f}\\n\")\n",
    "\n",
    "    return m\n"
   ]
  },
  {
   "cell_type": "code",
   "execution_count": 9,
   "id": "76dbabe6-d7d5-4177-8b2e-2dc72da147d9",
   "metadata": {
    "tags": []
   },
   "outputs": [
    {
     "name": "stdout",
     "output_type": "stream",
     "text": [
      "Evaluating  No Noise test set...\n",
      "Evaluating  WER 44 test set...\n",
      "Evaluating  WER 54 test set...\n",
      "\n",
      " Results:\n",
      "===================================\n",
      "\n",
      "Results for No Noise:\n",
      "F1 Score: 76.65%\n",
      "EM Score: 62.74%\n",
      "\n",
      "Results for WER 44:\n",
      "F1 Score: 54.89%\n",
      "EM Score: 37.34%\n",
      "\n",
      "Results for WER 54:\n",
      "F1 Score: 41.62%\n",
      "EM Score: 25.92%\n",
      "\n"
     ]
    }
   ],
   "source": [
    "# Pretty names for printing\n",
    "pretty = {\n",
    "    \"clean\": \"No Noise\",\n",
    "    \"wer44\": \"WER 44\",\n",
    "    \"wer54\": \"WER 54\",\n",
    "}\n",
    "\n",
    "split_cfg = [(\"clean\", \"outputs/clean\"),\n",
    "             (\"wer44\", \"outputs/wer44\"),\n",
    "             (\"wer54\", \"outputs/wer54\")]\n",
    "\n",
    "split_results = {}\n",
    "\n",
    "for key, outdir in split_cfg:\n",
    "    print(f\"Evaluating  {pretty[key]} test set...\")\n",
    "    split_results[key] = predict_one_split(key, outdir)\n",
    "\n",
    "# Final report prints\n",
    "print(\"\\n Results:\")\n",
    "print(\"===================================\\n\")\n",
    "\n",
    "for key in [\"clean\", \"wer44\", \"wer54\"]:\n",
    "    res = split_results[key]\n",
    "    print(f\"Results for {pretty[key]}:\")\n",
    "    print(f\"F1 Score: {res['f1']:.2f}%\")\n",
    "    print(f\"EM Score: {res['exact_match']:.2f}%\\n\")\n",
    "\n",
    "# Also save a combined CSV + JSON\n",
    "os.makedirs(\"outputs\", exist_ok=True)\n",
    "with open(\"outputs/qa_results_splitwise.csv\", \"w\", newline=\"\") as f:\n",
    "    w = csv.writer(f); w.writerow([\"Split\", \"ExactMatch\", \"F1\"])\n",
    "    for k in [\"clean\", \"wer44\", \"wer54\"]:\n",
    "        v = split_results[k]\n",
    "        w.writerow([pretty[k], f\"{v['exact_match']:.2f}\", f\"{v['f1']:.2f}\"])\n",
    "\n",
    "with open(\"outputs/qa_results_splitwise.json\", \"w\") as f:\n",
    "    json.dump(split_results, f, indent=2)\n"
   ]
  },
  {
   "cell_type": "code",
   "execution_count": null,
   "id": "42132bb1-3228-47f0-ac2c-55ba84ba910f",
   "metadata": {},
   "outputs": [],
   "source": []
  }
 ],
 "metadata": {
  "kernelspec": {
   "display_name": "Python 3 (ipykernel)",
   "language": "python",
   "name": "python3"
  },
  "language_info": {
   "codemirror_mode": {
    "name": "ipython",
    "version": 3
   },
   "file_extension": ".py",
   "mimetype": "text/x-python",
   "name": "python",
   "nbconvert_exporter": "python",
   "pygments_lexer": "ipython3",
   "version": "3.11.5"
  }
 },
 "nbformat": 4,
 "nbformat_minor": 5
}
