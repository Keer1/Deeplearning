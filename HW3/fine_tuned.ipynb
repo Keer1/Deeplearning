{
 "cells": [
  {
   "cell_type": "code",
   "execution_count": 1,
   "id": "720934de-37fb-40aa-95d7-1c262b429ce7",
   "metadata": {
    "tags": []
   },
   "outputs": [],
   "source": [
    "# Cell 1 — setup\n",
    "!pip -q install transformers datasets accelerate==0.33.0\n",
    "\n",
    "import os, json, math, collections\n",
    "os.environ[\"TOKENIZERS_PARALLELISM\"] = \"false\"\n",
    "from dataclasses import dataclass \n",
    "from typing import Dict, List, Tuple\n",
    "\n",
    "import numpy as np\n",
    "import torch\n",
    "from torch.utils.data import DataLoader\n",
    "from tqdm import tqdm\n",
    "\n",
    "from transformers import (\n",
    "    AutoTokenizer, AutoModelForQuestionAnswering,\n",
    "    default_data_collator, get_linear_schedule_with_warmup, set_seed\n",
    ")\n",
    "from datasets import Dataset, DatasetDict\n",
    "\n",
    "set_seed(42)\n",
    "torch.backends.cudnn.benchmark = True\n",
    "device = torch.device(\"cuda\" if torch.cuda.is_available() else \"cpu\")\n"
   ]
  },
  {
   "cell_type": "code",
   "execution_count": 2,
   "id": "238c1c6c-fccf-4831-b50c-5e5eac235219",
   "metadata": {
    "tags": []
   },
   "outputs": [
    {
     "name": "stdout",
     "output_type": "stream",
     "text": [
      "Train=37111, Clean=5351, WER44=5351, WER54=5351\n"
     ]
    }
   ],
   "source": [
    "# Cell 2 — data paths + loader\n",
    "DATA_DIR = \"./\"  # change if needed\n",
    "\n",
    "TRAIN_JSON      = os.path.join(DATA_DIR, \"spoken_train-v1.1.json\")\n",
    "TEST_CLEAN_JSON = os.path.join(DATA_DIR, \"spoken_test-v1.1.json\")\n",
    "TEST_W44_JSON   = os.path.join(DATA_DIR, \"spoken_test-v1.1_WER44.json\")\n",
    "TEST_W54_JSON   = os.path.join(DATA_DIR, \"spoken_test-v1.1_WER54.json\")\n",
    "\n",
    "for p in [TRAIN_JSON, TEST_CLEAN_JSON, TEST_W44_JSON, TEST_W54_JSON]:\n",
    "    assert os.path.exists(p), f\"Missing file: {p}\"\n",
    "\n",
    "def load_squad_like(json_path: str) -> Dataset:\n",
    "    with open(json_path, \"r\", encoding=\"utf-8\") as f:\n",
    "        js = json.load(f)\n",
    "    contexts, questions, ids, answers = [], [], [], []\n",
    "    for art in js[\"data\"]:\n",
    "        for par in art[\"paragraphs\"]:\n",
    "            ctx = par[\"context\"]\n",
    "            for qa in par[\"qas\"]:\n",
    "                qid = qa.get(\"id\", str(len(ids)))\n",
    "                q   = qa[\"question\"]\n",
    "                if qa.get(\"answers\"):\n",
    "                    a = qa[\"answers\"][0]\n",
    "                    a_text, a_start = a[\"text\"], a[\"answer_start\"]\n",
    "                else:\n",
    "                    a_text, a_start = \"\", 0\n",
    "                contexts.append(ctx)\n",
    "                questions.append(q)\n",
    "                ids.append(qid)\n",
    "                answers.append({\"text\":[a_text], \"answer_start\":[a_start]})\n",
    "    return Dataset.from_dict({\"id\": ids, \"context\": contexts, \"question\": questions, \"answers\": answers})\n",
    "\n",
    "train_ds  = load_squad_like(TRAIN_JSON)\n",
    "clean_ds  = load_squad_like(TEST_CLEAN_JSON)\n",
    "wer44_ds  = load_squad_like(TEST_W44_JSON)\n",
    "wer54_ds  = load_squad_like(TEST_W54_JSON)\n",
    "\n",
    "print(f\"Train={len(train_ds)}, Clean={len(clean_ds)}, WER44={len(wer44_ds)}, WER54={len(wer54_ds)}\")\n"
   ]
  },
  {
   "cell_type": "code",
   "execution_count": 3,
   "id": "60021465-365d-4cf7-995e-1de3239e6f3b",
   "metadata": {
    "tags": []
   },
   "outputs": [
    {
     "name": "stderr",
     "output_type": "stream",
     "text": [
      "/home/kpatam/.local/lib/python3.11/site-packages/huggingface_hub/file_download.py:945: FutureWarning: `resume_download` is deprecated and will be removed in version 1.0.0. Downloads always resume when possible. If you want to force a new download, use `force_download=True`.\n",
      "  warnings.warn(\n"
     ]
    }
   ],
   "source": [
    "# Cell 3 — tokenizer + SAFE preprocess\n",
    "MODEL_NAME = \"bert-base-uncased\"\n",
    "tokenizer  = AutoTokenizer.from_pretrained(MODEL_NAME, use_fast=True)\n",
    "\n",
    "MAX_LEN    = 384\n",
    "DOC_STRIDE = 128\n",
    "\n",
    "def prepare_train_features(examples):\n",
    "    tok = tokenizer(\n",
    "        examples[\"question\"], examples[\"context\"],\n",
    "        truncation=\"only_second\", max_length=MAX_LEN, stride=DOC_STRIDE,\n",
    "        return_offsets_mapping=True, return_overflowing_tokens=True, padding=\"max_length\",\n",
    "    )\n",
    "    sample_map  = tok.pop(\"overflow_to_sample_mapping\")\n",
    "    offsets_all = tok[\"offset_mapping\"]\n",
    "\n",
    "    start_pos, end_pos = [], []\n",
    "\n",
    "    for i, offsets in enumerate(offsets_all):\n",
    "        input_ids  = tok[\"input_ids\"][i]\n",
    "        seq_ids    = tok.sequence_ids(i)\n",
    "        cls_index  = input_ids.index(tokenizer.cls_token_id)\n",
    "        sample_idx = sample_map[i]\n",
    "        ans        = examples[\"answers\"][sample_idx]\n",
    "\n",
    "        # unanswerable / missing → CLS\n",
    "        if not ans[\"answer_start\"] or not ans[\"text\"] or ans[\"text\"][0] == \"\":\n",
    "            start_pos.append(cls_index)\n",
    "            end_pos.append(cls_index)\n",
    "            continue\n",
    "\n",
    "        start_char = ans[\"answer_start\"][0]\n",
    "        end_char   = start_char + len(ans[\"text\"][0])\n",
    "\n",
    "        # find first/last context tokens in this feature\n",
    "        token_start_index = next((k for k in range(len(input_ids)) if seq_ids[k] == 1), None)\n",
    "        token_end_index   = next((k for k in range(len(input_ids)-1, -1, -1) if seq_ids[k] == 1), None)\n",
    "\n",
    "        if token_start_index is None or token_end_index is None:\n",
    "            start_pos.append(cls_index); end_pos.append(cls_index); continue\n",
    "\n",
    "        # if gold span not fully inside this window → CLS\n",
    "        if not (offsets[token_start_index] and offsets[token_end_index] and\n",
    "                offsets[token_start_index][0] <= start_char <= offsets[token_end_index][1] and\n",
    "                offsets[token_start_index][0] <= end_char   <= offsets[token_end_index][1]):\n",
    "            start_pos.append(cls_index); end_pos.append(cls_index); continue\n",
    "\n",
    "        # tighten to token indices\n",
    "        tmp = token_start_index\n",
    "        while tmp < len(offsets) and offsets[tmp] and offsets[tmp][0] <= start_char:\n",
    "            tmp += 1\n",
    "        start_tok = max(token_start_index, tmp - 1)\n",
    "\n",
    "        tmp = token_end_index\n",
    "        while tmp >= 0 and offsets[tmp] and offsets[tmp][1] >= end_char:\n",
    "            tmp -= 1\n",
    "        end_tok = min(token_end_index, tmp + 1)\n",
    "\n",
    "        if not (token_start_index <= start_tok <= token_end_index and\n",
    "                token_start_index <= end_tok   <= token_end_index and end_tok >= start_tok):\n",
    "            start_tok = cls_index; end_tok = cls_index\n",
    "\n",
    "        start_pos.append(start_tok)\n",
    "        end_pos.append(end_tok)\n",
    "\n",
    "    tok[\"start_positions\"] = start_pos\n",
    "    tok[\"end_positions\"]   = end_pos\n",
    "\n",
    "    # keep offsets only for context; used later in postprocessing\n",
    "    tok[\"offset_mapping\"] = [\n",
    "        [o if tok.sequence_ids(i)[k] == 1 else None for k, o in enumerate(ofs)]\n",
    "        for i, ofs in enumerate(offsets_all)\n",
    "    ]\n",
    "    return tok\n",
    "\n",
    "def prepare_eval_features(examples):\n",
    "    tok = tokenizer(\n",
    "        examples[\"question\"], examples[\"context\"],\n",
    "        truncation=\"only_second\", max_length=MAX_LEN, stride=DOC_STRIDE,\n",
    "        return_offsets_mapping=True, return_overflowing_tokens=True, padding=\"max_length\",\n",
    "    )\n",
    "    sample_map  = tok.pop(\"overflow_to_sample_mapping\")\n",
    "    example_ids = []\n",
    "    for i in range(len(tok[\"input_ids\"])):\n",
    "        seq_ids = tok.sequence_ids(i)\n",
    "        example_ids.append(examples[\"id\"][sample_map[i]])\n",
    "        tok[\"offset_mapping\"][i] = [o if seq_ids[k] == 1 else None for k, o in enumerate(tok[\"offset_mapping\"][i])]\n",
    "    tok[\"example_id\"] = example_ids\n",
    "    return tok\n"
   ]
  },
  {
   "cell_type": "code",
   "execution_count": 4,
   "id": "2091e1b9-efe8-4021-9e47-2f00c5a8db35",
   "metadata": {
    "tags": []
   },
   "outputs": [
    {
     "data": {
      "application/vnd.jupyter.widget-view+json": {
       "model_id": "",
       "version_major": 2,
       "version_minor": 0
      },
      "text/plain": [
       "Map:   0%|          | 0/37111 [00:00<?, ? examples/s]"
      ]
     },
     "metadata": {},
     "output_type": "display_data"
    },
    {
     "data": {
      "application/vnd.jupyter.widget-view+json": {
       "model_id": "",
       "version_major": 2,
       "version_minor": 0
      },
      "text/plain": [
       "Map:   0%|          | 0/5351 [00:00<?, ? examples/s]"
      ]
     },
     "metadata": {},
     "output_type": "display_data"
    },
    {
     "data": {
      "application/vnd.jupyter.widget-view+json": {
       "model_id": "",
       "version_major": 2,
       "version_minor": 0
      },
      "text/plain": [
       "Map:   0%|          | 0/5351 [00:00<?, ? examples/s]"
      ]
     },
     "metadata": {},
     "output_type": "display_data"
    },
    {
     "data": {
      "application/vnd.jupyter.widget-view+json": {
       "model_id": "",
       "version_major": 2,
       "version_minor": 0
      },
      "text/plain": [
       "Map:   0%|          | 0/5351 [00:00<?, ? examples/s]"
      ]
     },
     "metadata": {},
     "output_type": "display_data"
    },
    {
     "name": "stdout",
     "output_type": "stream",
     "text": [
      "Dataset({\n",
      "    features: ['input_ids', 'token_type_ids', 'attention_mask', 'offset_mapping', 'start_positions', 'end_positions'],\n",
      "    num_rows: 37312\n",
      "})\n",
      "Dataset({\n",
      "    features: ['input_ids', 'token_type_ids', 'attention_mask', 'offset_mapping', 'example_id'],\n",
      "    num_rows: 5424\n",
      "})\n"
     ]
    }
   ],
   "source": [
    "# Cell 4 — tokenize/map with cache disabled\n",
    "raw = DatasetDict({\"train\": train_ds, \"clean\": clean_ds, \"wer44\": wer44_ds, \"wer54\": wer54_ds})\n",
    "\n",
    "tok_train = raw[\"train\"].map(\n",
    "    prepare_train_features, batched=True, remove_columns=raw[\"train\"].column_names, load_from_cache_file=False\n",
    ")\n",
    "tok_clean = raw[\"clean\"].map(\n",
    "    prepare_eval_features, batched=True, remove_columns=raw[\"clean\"].column_names, load_from_cache_file=False\n",
    ")\n",
    "tok_w44 = raw[\"wer44\"].map(\n",
    "    prepare_eval_features, batched=True, remove_columns=raw[\"wer44\"].column_names, load_from_cache_file=False\n",
    ")\n",
    "tok_w54 = raw[\"wer54\"].map(\n",
    "    prepare_eval_features, batched=True, remove_columns=raw[\"wer54\"].column_names, load_from_cache_file=False\n",
    ")\n",
    "\n",
    "print(tok_train)\n",
    "print(tok_clean)\n"
   ]
  },
  {
   "cell_type": "code",
   "execution_count": 5,
   "id": "70835fa2-05fd-4e5a-aab9-c6cd3645d963",
   "metadata": {
    "tags": []
   },
   "outputs": [],
   "source": [
    "# Cell 5 — collator that strips non-tensor fields from batches\n",
    "def qa_collate(features):\n",
    "    cleaned = []\n",
    "    for f in features:\n",
    "        f = dict(f)\n",
    "        f.pop(\"offset_mapping\", None)\n",
    "        f.pop(\"example_id\", None)\n",
    "        for k in list(f.keys()):\n",
    "            if f[k] is None:\n",
    "                f.pop(k)\n",
    "        cleaned.append(f)\n",
    "    return default_data_collator(cleaned)\n"
   ]
  },
  {
   "cell_type": "code",
   "execution_count": 6,
   "id": "18521087-4618-45ac-bba6-336f37a23b69",
   "metadata": {
    "tags": []
   },
   "outputs": [
    {
     "name": "stderr",
     "output_type": "stream",
     "text": [
      "/software/slurm/spackages/linux-rocky8-x86_64/gcc-12.2.0/anaconda3-2023.09-0-3mhml42fa64byxqyd5fig5tbih625dp2/lib/python3.11/site-packages/transformers/utils/generic.py:260: FutureWarning: `torch.utils._pytree._register_pytree_node` is deprecated. Please use `torch.utils._pytree.register_pytree_node` instead.\n",
      "  torch.utils._pytree._register_pytree_node(\n",
      "/software/slurm/spackages/linux-rocky8-x86_64/gcc-12.2.0/anaconda3-2023.09-0-3mhml42fa64byxqyd5fig5tbih625dp2/lib/python3.11/site-packages/transformers/utils/generic.py:260: FutureWarning: `torch.utils._pytree._register_pytree_node` is deprecated. Please use `torch.utils._pytree.register_pytree_node` instead.\n",
      "  torch.utils._pytree._register_pytree_node(\n",
      "Some weights of BertForQuestionAnswering were not initialized from the model checkpoint at bert-base-uncased and are newly initialized: ['qa_outputs.bias', 'qa_outputs.weight']\n",
      "You should probably TRAIN this model on a down-stream task to be able to use it for predictions and inference.\n"
     ]
    },
    {
     "name": "stdout",
     "output_type": "stream",
     "text": [
      "Loading training data...\n",
      "Starting training...\n"
     ]
    },
    {
     "name": "stderr",
     "output_type": "stream",
     "text": [
      "Epoch 1/3: 100%|██████████| 3110/3110 [12:36<00:00,  4.11it/s, accuracy=0.3517, loss=0.7494]\n"
     ]
    },
    {
     "name": "stdout",
     "output_type": "stream",
     "text": [
      "Epoch 1 - Avg Loss: 1.9957, Avg Accuracy: 0.3517\n"
     ]
    },
    {
     "name": "stderr",
     "output_type": "stream",
     "text": [
      "Epoch 2/3: 100%|██████████| 3110/3110 [12:37<00:00,  4.11it/s, accuracy=0.5844, loss=1.3533]\n"
     ]
    },
    {
     "name": "stdout",
     "output_type": "stream",
     "text": [
      "Epoch 2 - Avg Loss: 0.9433, Avg Accuracy: 0.5844\n"
     ]
    },
    {
     "name": "stderr",
     "output_type": "stream",
     "text": [
      "Epoch 3/3: 100%|██████████| 3110/3110 [12:37<00:00,  4.11it/s, accuracy=0.7204, loss=0.1278]\n"
     ]
    },
    {
     "name": "stdout",
     "output_type": "stream",
     "text": [
      "Epoch 3 - Avg Loss: 0.5329, Avg Accuracy: 0.7204\n"
     ]
    },
    {
     "data": {
      "text/plain": [
       "('./qa_bert_spoken_squad_manual/tokenizer_config.json',\n",
       " './qa_bert_spoken_squad_manual/special_tokens_map.json',\n",
       " './qa_bert_spoken_squad_manual/vocab.txt',\n",
       " './qa_bert_spoken_squad_manual/added_tokens.json',\n",
       " './qa_bert_spoken_squad_manual/tokenizer.json')"
      ]
     },
     "execution_count": 6,
     "metadata": {},
     "output_type": "execute_result"
    }
   ],
   "source": [
    "# Cell 6 — training (accuracy + tqdm + linear schedule)\n",
    "\n",
    "from torch.optim import AdamW\n",
    "\n",
    "model = AutoModelForQuestionAnswering.from_pretrained(MODEL_NAME).to(device)\n",
    "\n",
    "train_loader = DataLoader(\n",
    "    tok_train, batch_size=12, shuffle=True, collate_fn=qa_collate,\n",
    "    num_workers=2, pin_memory=torch.cuda.is_available()\n",
    ")\n",
    "\n",
    "epochs        = 3          # set to 2 if you want a 2-epoch plot\n",
    "learning_rate = 3e-5\n",
    "weight_decay  = 0.01\n",
    "\n",
    "optimizer = AdamW(model.parameters(), lr=learning_rate, weight_decay=weight_decay)\n",
    "t_total   = len(train_loader) * epochs\n",
    "warmup    = int(0.1 * t_total)\n",
    "scheduler = get_linear_schedule_with_warmup(optimizer, warmup, t_total)\n",
    "\n",
    "epoch_losses, epoch_accs = [], []\n",
    "\n",
    "print(\"Loading training data...\")\n",
    "print(\"Starting training...\")\n",
    "\n",
    "for ep in range(1, epochs + 1):\n",
    "    model.train()\n",
    "    running_loss = 0.0\n",
    "    running_correct = 0\n",
    "    running_count = 0\n",
    "\n",
    "    pbar = tqdm(train_loader, desc=f\"Epoch {ep}/{epochs}\", leave=True)\n",
    "    for batch in pbar:\n",
    "        batch = {k: (v.to(device) if isinstance(v, torch.Tensor) else v) for k, v in batch.items()}\n",
    "        outputs = model(\n",
    "            input_ids=batch[\"input_ids\"],\n",
    "            attention_mask=batch[\"attention_mask\"],\n",
    "            token_type_ids=batch.get(\"token_type_ids\", None),\n",
    "            start_positions=batch[\"start_positions\"],\n",
    "            end_positions=batch[\"end_positions\"],\n",
    "        )\n",
    "        loss = outputs.loss\n",
    "\n",
    "        optimizer.zero_grad(set_to_none=True)\n",
    "        loss.backward()\n",
    "        optimizer.step()\n",
    "        scheduler.step()\n",
    "\n",
    "        with torch.no_grad():\n",
    "            start_pred = outputs.start_logits.argmax(dim=-1)\n",
    "            end_pred   = outputs.end_logits.argmax(dim=-1)\n",
    "            correct = ((start_pred == batch[\"start_positions\"]) & (end_pred == batch[\"end_positions\"])).sum().item()\n",
    "            bs = batch[\"input_ids\"].size(0)\n",
    "            running_correct += correct\n",
    "            running_count   += bs\n",
    "\n",
    "        running_loss += loss.item() * bs\n",
    "        curr_acc = running_correct / max(1, running_count)\n",
    "        pbar.set_postfix(loss=f\"{loss.item():.4f}\", accuracy=f\"{curr_acc:.4f}\")\n",
    "\n",
    "    avg_loss = running_loss / max(1, running_count)\n",
    "    avg_acc  = running_correct / max(1, running_count)\n",
    "    epoch_losses.append(avg_loss)\n",
    "    epoch_accs.append(avg_acc)\n",
    "    print(f\"Epoch {ep} - Avg Loss: {avg_loss:.4f}, Avg Accuracy: {avg_acc:.4f}\")\n",
    "\n",
    "# (optional) save\n",
    "os.makedirs(\"./qa_bert_spoken_squad_manual\", exist_ok=True)\n",
    "model.save_pretrained(\"./qa_bert_spoken_squad_manual\")\n",
    "tokenizer.save_pretrained(\"./qa_bert_spoken_squad_manual\")\n"
   ]
  },
  {
   "cell_type": "code",
   "execution_count": 7,
   "id": "113fa8bc-58f4-41a8-8879-c7e6fdef26ec",
   "metadata": {
    "tags": []
   },
   "outputs": [
    {
     "data": {
      "image/png": "[encoded data removed]",
      "text/plain": [
       "<Figure size 1200x400 with 2 Axes>"
      ]
     },
     "metadata": {},
     "output_type": "display_data"
    }
   ],
   "source": [
    "import matplotlib.pyplot as plt\n",
    "\n",
    "plt.figure(figsize=(12,4))\n",
    "\n",
    "plt.subplot(1,2,1)\n",
    "plt.plot(range(1, len(epoch_losses)+1), epoch_losses)\n",
    "plt.title(\"Training Loss\")\n",
    "plt.xlabel(\"Epoch\")\n",
    "plt.ylabel(\"Loss\")\n",
    "plt.grid(True)\n",
    "\n",
    "plt.subplot(1,2,2)\n",
    "plt.plot(range(1, len(epoch_accs)+1), epoch_accs)\n",
    "plt.title(\"Training Accuracy\")\n",
    "plt.xlabel(\"Epoch\")\n",
    "plt.ylabel(\"Accuracy\")\n",
    "plt.grid(True)\n",
    "\n",
    "plt.tight_layout()\n",
    "plt.savefig(\"training_curves_side_by_side.png\", dpi=150)\n",
    "plt.show()\n"
   ]
  },
  {
   "cell_type": "code",
   "execution_count": 8,
   "id": "e52dcfc3-1807-42da-a0c2-c2c7fcf6ccc3",
   "metadata": {
    "tags": []
   },
   "outputs": [
    {
     "name": "stdout",
     "output_type": "stream",
     "text": [
      "Evaluating  No Noise test set...\n"
     ]
    },
    {
     "name": "stderr",
     "output_type": "stream",
     "text": [
      "Evaluating: 100%|██████████| 170/170 [00:34<00:00,  4.92it/s]\n"
     ]
    },
    {
     "name": "stdout",
     "output_type": "stream",
     "text": [
      "Results  No Noise:\n",
      "F1 Score: 68.20%\n",
      "EM Score: 49.86%\n",
      "\n",
      "Evaluating  WER 44 test set...\n"
     ]
    },
    {
     "name": "stderr",
     "output_type": "stream",
     "text": [
      "Evaluating: 100%|██████████| 170/170 [00:34<00:00,  4.92it/s]\n"
     ]
    },
    {
     "name": "stdout",
     "output_type": "stream",
     "text": [
      "Results  WER 44:\n",
      "F1 Score: 48.76%\n",
      "EM Score: 29.88%\n",
      "\n",
      "Evaluating  WER 54 test set...\n"
     ]
    },
    {
     "name": "stderr",
     "output_type": "stream",
     "text": [
      "Evaluating: 100%|██████████| 170/170 [00:34<00:00,  4.92it/s]\n"
     ]
    },
    {
     "name": "stdout",
     "output_type": "stream",
     "text": [
      "Results  WER 54:\n",
      "F1 Score: 36.58%\n",
      "EM Score: 20.46%\n",
      "\n"
     ]
    }
   ],
   "source": [
    "\n",
    "\n",
    "@dataclass\n",
    "class QAExample:\n",
    "    id: str\n",
    "    context: str\n",
    "    question: str\n",
    "    answers: Dict[str, List]\n",
    "\n",
    "def _normalize(s: str) -> str:\n",
    "    import string\n",
    "    s = s.lower()\n",
    "    s = \"\".join(ch for ch in s if ch not in set(string.punctuation))\n",
    "    return \" \".join(s.split())\n",
    "\n",
    "def em(pred: str, gold: str) -> float:\n",
    "    return float(_normalize(pred) == _normalize(gold))\n",
    "\n",
    "def f1(pred: str, gold: str) -> float:\n",
    "    p = _normalize(pred).split()\n",
    "    g = _normalize(gold).split()\n",
    "    common = (collections.Counter(p) & collections.Counter(g))\n",
    "    num_same = sum(common.values())\n",
    "    if not p and not g: return 1.0\n",
    "    if not p or not g:  return 0.0\n",
    "    if num_same == 0:   return 0.0\n",
    "    prec, rec = num_same/len(p), num_same/len(g)\n",
    "    return 2*prec*rec/(prec+rec)\n",
    "\n",
    "def postprocess_predictions(examples: Dataset, features: Dataset, raw_preds: Tuple[np.ndarray, np.ndarray],\n",
    "                            n_best=20, max_ans_len=30) -> Dict[str, str]:\n",
    "    start_logits, end_logits = raw_preds\n",
    "    ex_id_to_feats = collections.defaultdict(list)\n",
    "    for i, f in enumerate(features):\n",
    "        ex_id_to_feats[f[\"example_id\"]].append(i)\n",
    "\n",
    "    id_to_ctx = {ex[\"id\"]: ex[\"context\"] for ex in examples}\n",
    "    preds_text = {}\n",
    "\n",
    "    for qid, feat_idxs in ex_id_to_feats.items():\n",
    "        best = None\n",
    "        for fi in feat_idxs:\n",
    "            s_log, e_log = start_logits[fi], end_logits[fi]\n",
    "            offsets      = features[fi][\"offset_mapping\"]\n",
    "            input_ids    = features[fi][\"input_ids\"]\n",
    "\n",
    "            s_best = np.argsort(s_log)[-n_best:][::-1]\n",
    "            e_best = np.argsort(e_log)[-n_best:][::-1]\n",
    "\n",
    "            for si in s_best:\n",
    "                for ei in e_best:\n",
    "                    if si >= len(offsets) or ei >= len(offsets):        continue\n",
    "                    if offsets[si] is None or offsets[ei] is None:      continue\n",
    "                    if ei < si:                                         continue\n",
    "                    if (ei - si + 1) > max_ans_len:                     continue\n",
    "                    score = s_log[si] + e_log[ei]\n",
    "                    if (best is None) or (score > best[\"score\"]):\n",
    "                        best = {\"score\": score, \"si\": si, \"ei\": ei, \"fi\": fi}\n",
    "\n",
    "        if best is None:\n",
    "            preds_text[qid] = \"\"\n",
    "        else:\n",
    "            ctx = id_to_ctx[qid]\n",
    "            start_char = features[best[\"fi\"]][\"offset_mapping\"][best[\"si\"]][0]\n",
    "            end_char   = features[best[\"fi\"]][\"offset_mapping\"][best[\"ei\"]][1]\n",
    "            start_char = max(0, min(len(ctx), start_char))\n",
    "            end_char   = max(0, min(len(ctx), end_char))\n",
    "            preds_text[qid] = ctx[start_char:end_char]\n",
    "    return preds_text\n",
    "\n",
    "def _predict_logits_on_features(features, batch_size=32):\n",
    "    model.eval()\n",
    "    dl = DataLoader(\n",
    "        features, batch_size=batch_size, shuffle=False,\n",
    "        collate_fn=qa_collate, num_workers=2, pin_memory=torch.cuda.is_available()\n",
    "    )\n",
    "    all_start, all_end = [], []\n",
    "    with torch.no_grad():\n",
    "        for batch in tqdm(dl, desc=\"Evaluating\", leave=True):\n",
    "            batch = {k: (v.to(device) if isinstance(v, torch.Tensor) else v) for k, v in batch.items()}\n",
    "            outputs = model(\n",
    "                input_ids=batch[\"input_ids\"],\n",
    "                attention_mask=batch[\"attention_mask\"],\n",
    "                token_type_ids=batch.get(\"token_type_ids\", None),\n",
    "            )\n",
    "            all_start.append(outputs.start_logits.detach().cpu().numpy())\n",
    "            all_end.append(outputs.end_logits.detach().cpu().numpy())\n",
    "    start = np.concatenate(all_start, axis=0)\n",
    "    end   = np.concatenate(all_end, axis=0)\n",
    "    return start, end\n",
    "\n",
    "def evaluate_split_verbose(split_name, raw_examples, tokenized_features, pred_file):\n",
    "    print(f\"Evaluating  {split_name} test set...\")\n",
    "    start_logits, end_logits = _predict_logits_on_features(tokenized_features, batch_size=32)\n",
    "    preds_text = postprocess_predictions(raw_examples, tokenized_features, (start_logits, end_logits))\n",
    "\n",
    "    with open(pred_file, \"w\", encoding=\"utf-8\") as f:\n",
    "        json.dump(preds_text, f, ensure_ascii=False, indent=2)\n",
    "\n",
    "    ems, f1s = [], []\n",
    "    for ex in raw_examples:\n",
    "        if ex[\"answers\"][\"text\"] and ex[\"answers\"][\"text\"][0]:\n",
    "            gold = ex[\"answers\"][\"text\"][0]\n",
    "            pred = preds_text.get(ex[\"id\"], \"\")\n",
    "            ems.append(em(pred, gold))\n",
    "            f1s.append(f1(pred, gold))\n",
    "    f1_score = (np.mean(f1s)*100) if f1s else 0.0\n",
    "    em_score = (np.mean(ems)*100) if ems else 0.0\n",
    "\n",
    "    print(f\"Results  {split_name}:\")\n",
    "    print(f\"F1 Score: {f1_score:.2f}%\")\n",
    "    print(f\"EM Score: {em_score:.2f}%\\n\")\n",
    "    return {\"EM\": em_score, \"F1\": f1_score}\n",
    "\n",
    "\n",
    "scores_clean = evaluate_split_verbose(\"No Noise\", raw[\"clean\"], tok_clean, \"predictions_clean.json\")\n",
    "scores_w44   = evaluate_split_verbose(\"WER 44\",  raw[\"wer44\"], tok_w44,   \"predictions_wer44.json\")\n",
    "scores_w54   = evaluate_split_verbose(\"WER 54\",  raw[\"wer54\"], tok_w54,   \"predictions_wer54.json\")\n"
   ]
  },
  {
   "cell_type": "code",
   "execution_count": null,
   "id": "117a6306-5a96-4187-8ce9-6c9956b6650b",
   "metadata": {},
   "outputs": [],
   "source": []
  }
 ],
 "metadata": {
  "kernelspec": {
   "display_name": "Python 3 (ipykernel)",
   "language": "python",
   "name": "python3"
  },
  "language_info": {
   "codemirror_mode": {
    "name": "ipython",
    "version": 3
   },
   "file_extension": ".py",
   "mimetype": "text/x-python",
   "name": "python",
   "nbconvert_exporter": "python",
   "pygments_lexer": "ipython3",
   "version": "3.11.5"
  }
 },
 "nbformat": 4,
 "nbformat_minor": 5
}
